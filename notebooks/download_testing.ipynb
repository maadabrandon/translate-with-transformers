{
 "cells": [
  {
   "cell_type": "code",
   "execution_count": 1,
   "metadata": {},
   "outputs": [],
   "source": [
    "from src.setup.paths import PARENT_DIR\n",
    "from src.feature_pipeline.data_sourcing import download_data"
   ]
  },
  {
   "cell_type": "code",
   "execution_count": 3,
   "metadata": {},
   "outputs": [
    {
     "name": "stderr",
     "output_type": "stream",
     "text": [
      "\u001b[32m2024-05-02 22:47:34.265\u001b[0m | \u001b[1mINFO    \u001b[0m | \u001b[36msrc.feature_pipeline.data_extraction\u001b[0m:\u001b[36mdownload_data\u001b[0m:\u001b[36m62\u001b[0m - \u001b[1mChecking for the presence of folders and tarballs\u001b[0m\n",
      "\u001b[32m2024-05-02 22:47:34.267\u001b[0m | \u001b[1mINFO    \u001b[0m | \u001b[36msrc.feature_pipeline.data_extraction\u001b[0m:\u001b[36mdownload_data\u001b[0m:\u001b[36m65\u001b[0m - \u001b[1mChecking for missing files...\u001b[0m\n",
      "\u001b[32m2024-05-02 22:47:34.268\u001b[0m | \u001b[1mINFO    \u001b[0m | \u001b[36msrc.feature_pipeline.data_extraction\u001b[0m:\u001b[36mextract_missing_files\u001b[0m:\u001b[36m356\u001b[0m - \u001b[1mFinding missing files...\u001b[0m\n",
      "\u001b[32m2024-05-02 22:47:34.269\u001b[0m | \u001b[1mINFO    \u001b[0m | \u001b[36msrc.feature_pipeline.data_extraction\u001b[0m:\u001b[36mextract_missing_files\u001b[0m:\u001b[36m359\u001b[0m - \u001b[1mExtracting missing files from tarball...\u001b[0m\n",
      "\u001b[32m2024-05-02 22:47:36.783\u001b[0m | \u001b[32m\u001b[1mSUCCESS \u001b[0m | \u001b[36msrc.feature_pipeline.data_extraction\u001b[0m:\u001b[36mdownload_data\u001b[0m:\u001b[36m82\u001b[0m - \u001b[32m\u001b[1mThe folder \"bg-en\" already exists\u001b[0m\n"
     ]
    }
   ],
   "source": [
    "download_data(source_lang=\"bg\")"
   ]
  }
 ],
 "metadata": {
  "kernelspec": {
   "display_name": "src-hOwuKoqN-py3.12",
   "language": "python",
   "name": "python3"
  },
  "language_info": {
   "codemirror_mode": {
    "name": "ipython",
    "version": 3
   },
   "file_extension": ".py",
   "mimetype": "text/x-python",
   "name": "python",
   "nbconvert_exporter": "python",
   "pygments_lexer": "ipython3",
   "version": "3.12.2"
  }
 },
 "nbformat": 4,
 "nbformat_minor": 2
}
