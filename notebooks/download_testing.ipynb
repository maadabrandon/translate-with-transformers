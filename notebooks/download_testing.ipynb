{
 "cells": [
  {
   "cell_type": "code",
   "execution_count": 1,
   "metadata": {},
   "outputs": [],
   "source": [
    "from src.setup.paths import PARENT_DIR\n",
    "from src.feature_pipeline.data_sourcing import download_data"
   ]
  },
  {
   "cell_type": "code",
   "execution_count": 2,
   "metadata": {},
   "outputs": [
    {
     "name": "stderr",
     "output_type": "stream",
     "text": [
      "\u001b[32m2024-05-03 17:43:02.380\u001b[0m | \u001b[1mINFO    \u001b[0m | \u001b[36msrc.feature_pipeline.data_sourcing\u001b[0m:\u001b[36mdownload_data\u001b[0m:\u001b[36m67\u001b[0m - \u001b[1mChecking for the presence of folders and tarballs\u001b[0m\n",
      "\u001b[32m2024-05-03 17:43:02.382\u001b[0m | \u001b[32m\u001b[1mSUCCESS \u001b[0m | \u001b[36msrc.feature_pipeline.data_sourcing\u001b[0m:\u001b[36mdownload_data\u001b[0m:\u001b[36m91\u001b[0m - \u001b[32m\u001b[1mThe folder \"bg-en\" already exists\u001b[0m\n",
      "\u001b[32m2024-05-03 17:43:02.384\u001b[0m | \u001b[1mINFO    \u001b[0m | \u001b[36msrc.feature_pipeline.data_sourcing\u001b[0m:\u001b[36mdownload_data\u001b[0m:\u001b[36m93\u001b[0m - \u001b[1mChecking for missing files...\u001b[0m\n",
      "\u001b[32m2024-05-03 17:43:02.385\u001b[0m | \u001b[32m\u001b[1mSUCCESS \u001b[0m | \u001b[36msrc.feature_pipeline.data_sourcing\u001b[0m:\u001b[36mboth_data_files_exist\u001b[0m:\u001b[36m314\u001b[0m - \u001b[32m\u001b[1mAll data files intact\u001b[0m\n",
      "\u001b[32m2024-05-03 17:43:02.387\u001b[0m | \u001b[32m\u001b[1mSUCCESS \u001b[0m | \u001b[36msrc.feature_pipeline.data_sourcing\u001b[0m:\u001b[36mboth_data_files_exist\u001b[0m:\u001b[36m314\u001b[0m - \u001b[32m\u001b[1mAll data files intact\u001b[0m\n",
      "\u001b[32m2024-05-03 17:43:02.387\u001b[0m | \u001b[32m\u001b[1mSUCCESS \u001b[0m | \u001b[36msrc.feature_pipeline.data_sourcing\u001b[0m:\u001b[36mdownload_data\u001b[0m:\u001b[36m105\u001b[0m - \u001b[32m\u001b[1mBoth data files are present. No need for any downloads\u001b[0m\n"
     ]
    }
   ],
   "source": [
    "download_data(source_lang=\"bg\")"
   ]
  }
 ],
 "metadata": {
  "kernelspec": {
   "display_name": "src-hOwuKoqN-py3.12",
   "language": "python",
   "name": "python3"
  },
  "language_info": {
   "codemirror_mode": {
    "name": "ipython",
    "version": 3
   },
   "file_extension": ".py",
   "mimetype": "text/x-python",
   "name": "python",
   "nbconvert_exporter": "python",
   "pygments_lexer": "ipython3",
   "version": "3.12.2"
  }
 },
 "nbformat": 4,
 "nbformat_minor": 2
}
